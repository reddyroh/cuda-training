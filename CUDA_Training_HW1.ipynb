{
  "nbformat": 4,
  "nbformat_minor": 0,
  "metadata": {
    "colab": {
      "provenance": [],
      "gpuType": "T4",
      "authorship_tag": "ABX9TyMCAVFno3w9GN9oTLIn2MGB",
      "include_colab_link": true
    },
    "kernelspec": {
      "name": "python3",
      "display_name": "Python 3"
    },
    "language_info": {
      "name": "python"
    },
    "accelerator": "GPU"
  },
  "cells": [
    {
      "cell_type": "markdown",
      "metadata": {
        "id": "view-in-github",
        "colab_type": "text"
      },
      "source": [
        "<a href=\"https://colab.research.google.com/github/reddyroh/cuda-training/blob/main/CUDA_Training_HW1.ipynb\" target=\"_parent\"><img src=\"https://colab.research.google.com/assets/colab-badge.svg\" alt=\"Open In Colab\"/></a>"
      ]
    },
    {
      "cell_type": "code",
      "execution_count": 3,
      "metadata": {
        "colab": {
          "base_uri": "https://localhost:8080/"
        },
        "id": "c7wCR3u5irau",
        "outputId": "9e130b2f-fe63-4a21-df46-5749c83d0bbb"
      },
      "outputs": [
        {
          "output_type": "stream",
          "name": "stdout",
          "text": [
            "bin    cuda\tcuda-11.8  games\t       include\tlib64\t   man\t share\n",
            "colab  cuda-11\tetc\t   _gcs_config_ops.so  lib\tlicensing  sbin  src\n"
          ]
        }
      ],
      "source": [
        "!ls /usr/local"
      ]
    },
    {
      "cell_type": "code",
      "source": [
        "!which nvcc"
      ],
      "metadata": {
        "colab": {
          "base_uri": "https://localhost:8080/"
        },
        "id": "V7UleOqSisYt",
        "outputId": "08d790e4-0901-4700-8bc7-9334ca8695f5"
      },
      "execution_count": 4,
      "outputs": [
        {
          "output_type": "stream",
          "name": "stdout",
          "text": [
            "/usr/local/cuda/bin/nvcc\n"
          ]
        }
      ]
    },
    {
      "cell_type": "code",
      "source": [
        "!nvidia-smi"
      ],
      "metadata": {
        "colab": {
          "base_uri": "https://localhost:8080/"
        },
        "id": "t7aTsrDlkD6r",
        "outputId": "0f9c0b7e-e5cd-44e4-c749-5e2ab4718669"
      },
      "execution_count": 5,
      "outputs": [
        {
          "output_type": "stream",
          "name": "stdout",
          "text": [
            "Sat Oct 21 18:47:34 2023       \n",
            "+-----------------------------------------------------------------------------+\n",
            "| NVIDIA-SMI 525.105.17   Driver Version: 525.105.17   CUDA Version: 12.0     |\n",
            "|-------------------------------+----------------------+----------------------+\n",
            "| GPU  Name        Persistence-M| Bus-Id        Disp.A | Volatile Uncorr. ECC |\n",
            "| Fan  Temp  Perf  Pwr:Usage/Cap|         Memory-Usage | GPU-Util  Compute M. |\n",
            "|                               |                      |               MIG M. |\n",
            "|===============================+======================+======================|\n",
            "|   0  Tesla T4            Off  | 00000000:00:04.0 Off |                    0 |\n",
            "| N/A   45C    P8     9W /  70W |      0MiB / 15360MiB |      0%      Default |\n",
            "|                               |                      |                  N/A |\n",
            "+-------------------------------+----------------------+----------------------+\n",
            "                                                                               \n",
            "+-----------------------------------------------------------------------------+\n",
            "| Processes:                                                                  |\n",
            "|  GPU   GI   CI        PID   Type   Process name                  GPU Memory |\n",
            "|        ID   ID                                                   Usage      |\n",
            "|=============================================================================|\n",
            "|  No running processes found                                                 |\n",
            "+-----------------------------------------------------------------------------+\n"
          ]
        }
      ]
    },
    {
      "cell_type": "code",
      "source": [
        "%%writefile hello.cu\n",
        "\n",
        "#include <stdio.h>\n",
        "\n",
        "__global__ void hello(){\n",
        "\n",
        "  printf(\"Hello from block: %u, thread: %u\\n\", blockIdx.x, threadIdx.x);\n",
        "}\n",
        "\n",
        "int main(){\n",
        "\n",
        "  hello<<<2, 2>>>();\n",
        "  cudaDeviceSynchronize();\n",
        "}"
      ],
      "metadata": {
        "colab": {
          "base_uri": "https://localhost:8080/"
        },
        "id": "fyae5w7okGWo",
        "outputId": "d9295bdb-2c11-4ae1-addc-377f10c1b039"
      },
      "execution_count": 8,
      "outputs": [
        {
          "output_type": "stream",
          "name": "stdout",
          "text": [
            "Overwriting hello.cu\n"
          ]
        }
      ]
    },
    {
      "cell_type": "code",
      "source": [
        "!nvcc -o hello hello.cu"
      ],
      "metadata": {
        "id": "9-UElYdFlTXT"
      },
      "execution_count": 9,
      "outputs": []
    },
    {
      "cell_type": "code",
      "source": [
        "!./hello"
      ],
      "metadata": {
        "colab": {
          "base_uri": "https://localhost:8080/"
        },
        "id": "8XcmaOBFlcW9",
        "outputId": "f81c1667-8079-4f5e-dbaf-d8c716f46c12"
      },
      "execution_count": 10,
      "outputs": [
        {
          "output_type": "stream",
          "name": "stdout",
          "text": [
            "Hello from block: 0, thread: 0\n",
            "Hello from block: 0, thread: 1\n",
            "Hello from block: 1, thread: 0\n",
            "Hello from block: 1, thread: 1\n"
          ]
        }
      ]
    },
    {
      "cell_type": "code",
      "source": [
        "%%writefile vector_add.cu\n",
        "\n",
        "#include <stdio.h>\n",
        "#include <cstdlib>\n",
        "\n",
        "// error checking macro\n",
        "#define cudaCheckErrors(msg) \\\n",
        "    do { \\\n",
        "        cudaError_t __err = cudaGetLastError(); \\\n",
        "        if (__err != cudaSuccess) { \\\n",
        "            fprintf(stderr, \"Fatal error: %s (%s at %s:%d)\\n\", \\\n",
        "                msg, cudaGetErrorString(__err), \\\n",
        "                __FILE__, __LINE__); \\\n",
        "            fprintf(stderr, \"*** FAILED - ABORTING\\n\"); \\\n",
        "            exit(1); \\\n",
        "        } \\\n",
        "    } while (0)\n",
        "\n",
        "\n",
        "const int block_size = 1024;  // CUDA maximum is 1024\n",
        "\n",
        "__global__ void add(float* a, float* b, float* c, int N){\n",
        "  int index = blockIdx.x * blockDim.x + threadIdx.x;\n",
        "  if (index < N) {\n",
        "    c[index] = a[index] + b[index];\n",
        "  }\n",
        "}\n",
        "\n",
        "void initialize(float* a, int N) {\n",
        "  for (int i = 0; i < N; i++) {\n",
        "    a[i] = std::rand()/(float)RAND_MAX;\n",
        "  }\n",
        "}\n",
        "\n",
        "int main() {\n",
        "\n",
        "  int N = block_size*20;\n",
        "  int size = N * sizeof(float);\n",
        "  float *a, *b, *c;\n",
        "  float *d_a, *d_b, *d_c;\n",
        "\n",
        "  cudaMalloc((void **)&d_a, size);\n",
        "  cudaMalloc((void **)&d_b, size);\n",
        "  cudaMalloc((void **)&d_c, size);\n",
        "\n",
        "  cudaCheckErrors(\"cuda Malloc\");\n",
        "\n",
        "  a = (float *)malloc(size);\n",
        "  initialize(a, N);\n",
        "  b = (float *)malloc(size);\n",
        "  initialize(b, N);\n",
        "  c = (float *)malloc(size);\n",
        "\n",
        "  cudaMemcpy(d_a, a, size, cudaMemcpyHostToDevice);\n",
        "  cudaMemcpy(d_b, b, size, cudaMemcpyHostToDevice);\n",
        "\n",
        "  cudaCheckErrors(\"cuda memcpy host to device\");\n",
        "\n",
        "  add<<<(N + block_size - 1)/block_size, block_size>>>(d_a, d_b, d_c, N);\n",
        "\n",
        "  cudaCheckErrors(\"kernel launch\");\n",
        "\n",
        "  cudaMemcpy(c, d_c, size, cudaMemcpyDeviceToHost);\n",
        "\n",
        "  cudaCheckErrors(\"cuda memcpy device to host\");\n",
        "\n",
        "  for (int i = 0; i < 3; i++) {\n",
        "    printf(\"a[%u]: %f, b[%u]: %f, c[%u]: %f \\n\", i, a[i], i, b[i], i, c[i]);\n",
        "  }\n",
        "}\n",
        "\n"
      ],
      "metadata": {
        "colab": {
          "base_uri": "https://localhost:8080/"
        },
        "id": "H1a_PDPclnnp",
        "outputId": "b591bd2e-ba62-4d93-961e-3f1a7c5b7a05"
      },
      "execution_count": 109,
      "outputs": [
        {
          "output_type": "stream",
          "name": "stdout",
          "text": [
            "Overwriting vector_add.cu\n"
          ]
        }
      ]
    },
    {
      "cell_type": "code",
      "source": [
        "!nvcc -o vector_add vector_add.cu"
      ],
      "metadata": {
        "id": "bElrLVSTngyn"
      },
      "execution_count": 110,
      "outputs": []
    },
    {
      "cell_type": "code",
      "source": [
        "!./vector_add"
      ],
      "metadata": {
        "colab": {
          "base_uri": "https://localhost:8080/"
        },
        "id": "UzBs5GgKttBF",
        "outputId": "2c683b7d-e8af-4f07-f784-6469cc63d9bf"
      },
      "execution_count": 111,
      "outputs": [
        {
          "output_type": "stream",
          "name": "stdout",
          "text": [
            "a[0]: 0.840188, b[0]: 0.118948, c[0]: 0.959136 \n",
            "a[1]: 0.394383, b[1]: 0.235666, c[1]: 0.630049 \n",
            "a[2]: 0.783099, b[2]: 0.196639, c[2]: 0.979739 \n"
          ]
        }
      ]
    },
    {
      "cell_type": "code",
      "source": [
        "%%timeit\n",
        "!./vector_add"
      ],
      "metadata": {
        "colab": {
          "base_uri": "https://localhost:8080/"
        },
        "id": "94Y27GkWn3JY",
        "outputId": "847f340f-7deb-4deb-dc1b-3cb874190392"
      },
      "execution_count": 112,
      "outputs": [
        {
          "output_type": "stream",
          "name": "stdout",
          "text": [
            "a[0]: 0.840188, b[0]: 0.118948, c[0]: 0.959136 \n",
            "a[1]: 0.394383, b[1]: 0.235666, c[1]: 0.630049 \n",
            "a[2]: 0.783099, b[2]: 0.196639, c[2]: 0.979739 \n",
            "a[0]: 0.840188, b[0]: 0.118948, c[0]: 0.959136 \n",
            "a[1]: 0.394383, b[1]: 0.235666, c[1]: 0.630049 \n",
            "a[2]: 0.783099, b[2]: 0.196639, c[2]: 0.979739 \n",
            "a[0]: 0.840188, b[0]: 0.118948, c[0]: 0.959136 \n",
            "a[1]: 0.394383, b[1]: 0.235666, c[1]: 0.630049 \n",
            "a[2]: 0.783099, b[2]: 0.196639, c[2]: 0.979739 \n",
            "a[0]: 0.840188, b[0]: 0.118948, c[0]: 0.959136 \n",
            "a[1]: 0.394383, b[1]: 0.235666, c[1]: 0.630049 \n",
            "a[2]: 0.783099, b[2]: 0.196639, c[2]: 0.979739 \n",
            "a[0]: 0.840188, b[0]: 0.118948, c[0]: 0.959136 \n",
            "a[1]: 0.394383, b[1]: 0.235666, c[1]: 0.630049 \n",
            "a[2]: 0.783099, b[2]: 0.196639, c[2]: 0.979739 \n",
            "a[0]: 0.840188, b[0]: 0.118948, c[0]: 0.959136 \n",
            "a[1]: 0.394383, b[1]: 0.235666, c[1]: 0.630049 \n",
            "a[2]: 0.783099, b[2]: 0.196639, c[2]: 0.979739 \n",
            "a[0]: 0.840188, b[0]: 0.118948, c[0]: 0.959136 \n",
            "a[1]: 0.394383, b[1]: 0.235666, c[1]: 0.630049 \n",
            "a[2]: 0.783099, b[2]: 0.196639, c[2]: 0.979739 \n",
            "a[0]: 0.840188, b[0]: 0.118948, c[0]: 0.959136 \n",
            "a[1]: 0.394383, b[1]: 0.235666, c[1]: 0.630049 \n",
            "a[2]: 0.783099, b[2]: 0.196639, c[2]: 0.979739 \n",
            "205 ms ± 1.53 ms per loop (mean ± std. dev. of 7 runs, 1 loop each)\n"
          ]
        }
      ]
    },
    {
      "cell_type": "code",
      "source": [
        "%%writefile vector_add_cpu.cu\n",
        "\n",
        "#include <stdio.h>\n",
        "#include <cstdlib>\n",
        "\n",
        "void initialize(float* a, int N) {\n",
        "  for (int i = 0; i < N; i++) {\n",
        "    a[i] = std::rand()/(float)RAND_MAX;\n",
        "  }\n",
        "}\n",
        "\n",
        "int main() {\n",
        "\n",
        "  int N = block_size*20;\n",
        "  int size = N * sizeof(float);\n",
        "  float *a, *b, *c;\n",
        "\n",
        "  a = (float *)malloc(size);\n",
        "  initialize(a, N);\n",
        "  b = (float *)malloc(size);\n",
        "  initialize(b, N);\n",
        "  c = (float *)malloc(size);\n",
        "\n",
        "  for (int i = 0; i < N; i++) {\n",
        "    c[i] = a[i] + b[i];\n",
        "  }\n",
        "\n",
        "  for (int i = 0; i < 3; i++) {\n",
        "    printf(\"a[%u]: %f, b[%u]: %f, c[%u]: %f \\n\", i, a[i], i, b[i], i, c[i]);\n",
        "  }\n",
        "}\n"
      ],
      "metadata": {
        "colab": {
          "base_uri": "https://localhost:8080/"
        },
        "id": "FySZTmORpHI5",
        "outputId": "366c5ea8-82e3-465e-e9fa-89e0b8cb6b73"
      },
      "execution_count": 102,
      "outputs": [
        {
          "output_type": "stream",
          "name": "stdout",
          "text": [
            "Overwriting vector_add_cpu.cu\n"
          ]
        }
      ]
    },
    {
      "cell_type": "code",
      "source": [
        "!nvcc -o vector_add_cpu vector_add_cpu.cu"
      ],
      "metadata": {
        "colab": {
          "base_uri": "https://localhost:8080/"
        },
        "id": "AL2Po8_htkuF",
        "outputId": "7260f1fd-33cf-404f-ab8e-9ba71be53373"
      },
      "execution_count": 103,
      "outputs": [
        {
          "output_type": "stream",
          "name": "stdout",
          "text": [
            "\u001b[01m\u001b[0m\u001b[01mvector_add_cpu.cu(13)\u001b[0m: \u001b[01;31merror\u001b[0m: identifier \"\u001b[01mblock_size\u001b[0m\" is undefined\n",
            "\n",
            "1 error detected in the compilation of \"vector_add_cpu.cu\".\n"
          ]
        }
      ]
    },
    {
      "cell_type": "code",
      "source": [
        "!./vector_add_cpu"
      ],
      "metadata": {
        "colab": {
          "base_uri": "https://localhost:8080/"
        },
        "id": "6fKRBYxitngD",
        "outputId": "8cfe5dbe-8de9-4c76-ae6e-5eba63f7f6b5"
      },
      "execution_count": 104,
      "outputs": [
        {
          "output_type": "stream",
          "name": "stdout",
          "text": [
            "a[0]: 0.840188, b[0]: 0.118948, c[0]: 0.959136 \n",
            "a[1]: 0.394383, b[1]: 0.235666, c[1]: 0.630049 \n",
            "a[2]: 0.783099, b[2]: 0.196639, c[2]: 0.979739 \n"
          ]
        }
      ]
    },
    {
      "cell_type": "code",
      "source": [
        "%%timeit\n",
        "!./vector_add_cpu"
      ],
      "metadata": {
        "colab": {
          "base_uri": "https://localhost:8080/"
        },
        "id": "uwd-ZLfCtojw",
        "outputId": "a721729e-ffd7-447d-e8f2-4307ed58a9e4"
      },
      "execution_count": 105,
      "outputs": [
        {
          "output_type": "stream",
          "name": "stdout",
          "text": [
            "a[0]: 0.840188, b[0]: 0.118948, c[0]: 0.959136 \n",
            "a[1]: 0.394383, b[1]: 0.235666, c[1]: 0.630049 \n",
            "a[2]: 0.783099, b[2]: 0.196639, c[2]: 0.979739 \n",
            "a[0]: 0.840188, b[0]: 0.118948, c[0]: 0.959136 \n",
            "a[1]: 0.394383, b[1]: 0.235666, c[1]: 0.630049 \n",
            "a[2]: 0.783099, b[2]: 0.196639, c[2]: 0.979739 \n",
            "a[0]: 0.840188, b[0]: 0.118948, c[0]: 0.959136 \n",
            "a[1]: 0.394383, b[1]: 0.235666, c[1]: 0.630049 \n",
            "a[2]: 0.783099, b[2]: 0.196639, c[2]: 0.979739 \n",
            "a[0]: 0.840188, b[0]: 0.118948, c[0]: 0.959136 \n",
            "a[1]: 0.394383, b[1]: 0.235666, c[1]: 0.630049 \n",
            "a[2]: 0.783099, b[2]: 0.196639, c[2]: 0.979739 \n",
            "a[0]: 0.840188, b[0]: 0.118948, c[0]: 0.959136 \n",
            "a[1]: 0.394383, b[1]: 0.235666, c[1]: 0.630049 \n",
            "a[2]: 0.783099, b[2]: 0.196639, c[2]: 0.979739 \n",
            "a[0]: 0.840188, b[0]: 0.118948, c[0]: 0.959136 \n",
            "a[1]: 0.394383, b[1]: 0.235666, c[1]: 0.630049 \n",
            "a[2]: 0.783099, b[2]: 0.196639, c[2]: 0.979739 \n",
            "a[0]: 0.840188, b[0]: 0.118948, c[0]: 0.959136 \n",
            "a[1]: 0.394383, b[1]: 0.235666, c[1]: 0.630049 \n",
            "a[2]: 0.783099, b[2]: 0.196639, c[2]: 0.979739 \n",
            "a[0]: 0.840188, b[0]: 0.118948, c[0]: 0.959136 \n",
            "a[1]: 0.394383, b[1]: 0.235666, c[1]: 0.630049 \n",
            "a[2]: 0.783099, b[2]: 0.196639, c[2]: 0.979739 \n",
            "a[0]: 0.840188, b[0]: 0.118948, c[0]: 0.959136 \n",
            "a[1]: 0.394383, b[1]: 0.235666, c[1]: 0.630049 \n",
            "a[2]: 0.783099, b[2]: 0.196639, c[2]: 0.979739 \n",
            "a[0]: 0.840188, b[0]: 0.118948, c[0]: 0.959136 \n",
            "a[1]: 0.394383, b[1]: 0.235666, c[1]: 0.630049 \n",
            "a[2]: 0.783099, b[2]: 0.196639, c[2]: 0.979739 \n",
            "a[0]: 0.840188, b[0]: 0.118948, c[0]: 0.959136 \n",
            "a[1]: 0.394383, b[1]: 0.235666, c[1]: 0.630049 \n",
            "a[2]: 0.783099, b[2]: 0.196639, c[2]: 0.979739 \n",
            "a[0]: 0.840188, b[0]: 0.118948, c[0]: 0.959136 \n",
            "a[1]: 0.394383, b[1]: 0.235666, c[1]: 0.630049 \n",
            "a[2]: 0.783099, b[2]: 0.196639, c[2]: 0.979739 \n",
            "a[0]: 0.840188, b[0]: 0.118948, c[0]: 0.959136 \n",
            "a[1]: 0.394383, b[1]: 0.235666, c[1]: 0.630049 \n",
            "a[2]: 0.783099, b[2]: 0.196639, c[2]: 0.979739 \n",
            "a[0]: 0.840188, b[0]: 0.118948, c[0]: 0.959136 \n",
            "a[1]: 0.394383, b[1]: 0.235666, c[1]: 0.630049 \n",
            "a[2]: 0.783099, b[2]: 0.196639, c[2]: 0.979739 \n",
            "a[0]: 0.840188, b[0]: 0.118948, c[0]: 0.959136 \n",
            "a[1]: 0.394383, b[1]: 0.235666, c[1]: 0.630049 \n",
            "a[2]: 0.783099, b[2]: 0.196639, c[2]: 0.979739 \n",
            "a[0]: 0.840188, b[0]: 0.118948, c[0]: 0.959136 \n",
            "a[1]: 0.394383, b[1]: 0.235666, c[1]: 0.630049 \n",
            "a[2]: 0.783099, b[2]: 0.196639, c[2]: 0.979739 \n",
            "a[0]: 0.840188, b[0]: 0.118948, c[0]: 0.959136 \n",
            "a[1]: 0.394383, b[1]: 0.235666, c[1]: 0.630049 \n",
            "a[2]: 0.783099, b[2]: 0.196639, c[2]: 0.979739 \n",
            "a[0]: 0.840188, b[0]: 0.118948, c[0]: 0.959136 \n",
            "a[1]: 0.394383, b[1]: 0.235666, c[1]: 0.630049 \n",
            "a[2]: 0.783099, b[2]: 0.196639, c[2]: 0.979739 \n",
            "a[0]: 0.840188, b[0]: 0.118948, c[0]: 0.959136 \n",
            "a[1]: 0.394383, b[1]: 0.235666, c[1]: 0.630049 \n",
            "a[2]: 0.783099, b[2]: 0.196639, c[2]: 0.979739 \n",
            "a[0]: 0.840188, b[0]: 0.118948, c[0]: 0.959136 \n",
            "a[1]: 0.394383, b[1]: 0.235666, c[1]: 0.630049 \n",
            "a[2]: 0.783099, b[2]: 0.196639, c[2]: 0.979739 \n",
            "a[0]: 0.840188, b[0]: 0.118948, c[0]: 0.959136 \n",
            "a[1]: 0.394383, b[1]: 0.235666, c[1]: 0.630049 \n",
            "a[2]: 0.783099, b[2]: 0.196639, c[2]: 0.979739 \n",
            "a[0]: 0.840188, b[0]: 0.118948, c[0]: 0.959136 \n",
            "a[1]: 0.394383, b[1]: 0.235666, c[1]: 0.630049 \n",
            "a[2]: 0.783099, b[2]: 0.196639, c[2]: 0.979739 \n",
            "a[0]: 0.840188, b[0]: 0.118948, c[0]: 0.959136 \n",
            "a[1]: 0.394383, b[1]: 0.235666, c[1]: 0.630049 \n",
            "a[2]: 0.783099, b[2]: 0.196639, c[2]: 0.979739 \n",
            "a[0]: 0.840188, b[0]: 0.118948, c[0]: 0.959136 \n",
            "a[1]: 0.394383, b[1]: 0.235666, c[1]: 0.630049 \n",
            "a[2]: 0.783099, b[2]: 0.196639, c[2]: 0.979739 \n",
            "a[0]: 0.840188, b[0]: 0.118948, c[0]: 0.959136 \n",
            "a[1]: 0.394383, b[1]: 0.235666, c[1]: 0.630049 \n",
            "a[2]: 0.783099, b[2]: 0.196639, c[2]: 0.979739 \n",
            "a[0]: 0.840188, b[0]: 0.118948, c[0]: 0.959136 \n",
            "a[1]: 0.394383, b[1]: 0.235666, c[1]: 0.630049 \n",
            "a[2]: 0.783099, b[2]: 0.196639, c[2]: 0.979739 \n",
            "a[0]: 0.840188, b[0]: 0.118948, c[0]: 0.959136 \n",
            "a[1]: 0.394383, b[1]: 0.235666, c[1]: 0.630049 \n",
            "a[2]: 0.783099, b[2]: 0.196639, c[2]: 0.979739 \n",
            "a[0]: 0.840188, b[0]: 0.118948, c[0]: 0.959136 \n",
            "a[1]: 0.394383, b[1]: 0.235666, c[1]: 0.630049 \n",
            "a[2]: 0.783099, b[2]: 0.196639, c[2]: 0.979739 \n",
            "a[0]: 0.840188, b[0]: 0.118948, c[0]: 0.959136 \n",
            "a[1]: 0.394383, b[1]: 0.235666, c[1]: 0.630049 \n",
            "a[2]: 0.783099, b[2]: 0.196639, c[2]: 0.979739 \n",
            "a[0]: 0.840188, b[0]: 0.118948, c[0]: 0.959136 \n",
            "a[1]: 0.394383, b[1]: 0.235666, c[1]: 0.630049 \n",
            "a[2]: 0.783099, b[2]: 0.196639, c[2]: 0.979739 \n",
            "a[0]: 0.840188, b[0]: 0.118948, c[0]: 0.959136 \n",
            "a[1]: 0.394383, b[1]: 0.235666, c[1]: 0.630049 \n",
            "a[2]: 0.783099, b[2]: 0.196639, c[2]: 0.979739 \n",
            "a[0]: 0.840188, b[0]: 0.118948, c[0]: 0.959136 \n",
            "a[1]: 0.394383, b[1]: 0.235666, c[1]: 0.630049 \n",
            "a[2]: 0.783099, b[2]: 0.196639, c[2]: 0.979739 \n",
            "a[0]: 0.840188, b[0]: 0.118948, c[0]: 0.959136 \n",
            "a[1]: 0.394383, b[1]: 0.235666, c[1]: 0.630049 \n",
            "a[2]: 0.783099, b[2]: 0.196639, c[2]: 0.979739 \n",
            "a[0]: 0.840188, b[0]: 0.118948, c[0]: 0.959136 \n",
            "a[1]: 0.394383, b[1]: 0.235666, c[1]: 0.630049 \n",
            "a[2]: 0.783099, b[2]: 0.196639, c[2]: 0.979739 \n",
            "a[0]: 0.840188, b[0]: 0.118948, c[0]: 0.959136 \n",
            "a[1]: 0.394383, b[1]: 0.235666, c[1]: 0.630049 \n",
            "a[2]: 0.783099, b[2]: 0.196639, c[2]: 0.979739 \n",
            "a[0]: 0.840188, b[0]: 0.118948, c[0]: 0.959136 \n",
            "a[1]: 0.394383, b[1]: 0.235666, c[1]: 0.630049 \n",
            "a[2]: 0.783099, b[2]: 0.196639, c[2]: 0.979739 \n",
            "a[0]: 0.840188, b[0]: 0.118948, c[0]: 0.959136 \n",
            "a[1]: 0.394383, b[1]: 0.235666, c[1]: 0.630049 \n",
            "a[2]: 0.783099, b[2]: 0.196639, c[2]: 0.979739 \n",
            "a[0]: 0.840188, b[0]: 0.118948, c[0]: 0.959136 \n",
            "a[1]: 0.394383, b[1]: 0.235666, c[1]: 0.630049 \n",
            "a[2]: 0.783099, b[2]: 0.196639, c[2]: 0.979739 \n",
            "a[0]: 0.840188, b[0]: 0.118948, c[0]: 0.959136 \n",
            "a[1]: 0.394383, b[1]: 0.235666, c[1]: 0.630049 \n",
            "a[2]: 0.783099, b[2]: 0.196639, c[2]: 0.979739 \n",
            "a[0]: 0.840188, b[0]: 0.118948, c[0]: 0.959136 \n",
            "a[1]: 0.394383, b[1]: 0.235666, c[1]: 0.630049 \n",
            "a[2]: 0.783099, b[2]: 0.196639, c[2]: 0.979739 \n",
            "a[0]: 0.840188, b[0]: 0.118948, c[0]: 0.959136 \n",
            "a[1]: 0.394383, b[1]: 0.235666, c[1]: 0.630049 \n",
            "a[2]: 0.783099, b[2]: 0.196639, c[2]: 0.979739 \n",
            "a[0]: 0.840188, b[0]: 0.118948, c[0]: 0.959136 \n",
            "a[1]: 0.394383, b[1]: 0.235666, c[1]: 0.630049 \n",
            "a[2]: 0.783099, b[2]: 0.196639, c[2]: 0.979739 \n",
            "a[0]: 0.840188, b[0]: 0.118948, c[0]: 0.959136 \n",
            "a[1]: 0.394383, b[1]: 0.235666, c[1]: 0.630049 \n",
            "a[2]: 0.783099, b[2]: 0.196639, c[2]: 0.979739 \n",
            "a[0]: 0.840188, b[0]: 0.118948, c[0]: 0.959136 \n",
            "a[1]: 0.394383, b[1]: 0.235666, c[1]: 0.630049 \n",
            "a[2]: 0.783099, b[2]: 0.196639, c[2]: 0.979739 \n",
            "a[0]: 0.840188, b[0]: 0.118948, c[0]: 0.959136 \n",
            "a[1]: 0.394383, b[1]: 0.235666, c[1]: 0.630049 \n",
            "a[2]: 0.783099, b[2]: 0.196639, c[2]: 0.979739 \n",
            "a[0]: 0.840188, b[0]: 0.118948, c[0]: 0.959136 \n",
            "a[1]: 0.394383, b[1]: 0.235666, c[1]: 0.630049 \n",
            "a[2]: 0.783099, b[2]: 0.196639, c[2]: 0.979739 \n",
            "a[0]: 0.840188, b[0]: 0.118948, c[0]: 0.959136 \n",
            "a[1]: 0.394383, b[1]: 0.235666, c[1]: 0.630049 \n",
            "a[2]: 0.783099, b[2]: 0.196639, c[2]: 0.979739 \n",
            "a[0]: 0.840188, b[0]: 0.118948, c[0]: 0.959136 \n",
            "a[1]: 0.394383, b[1]: 0.235666, c[1]: 0.630049 \n",
            "a[2]: 0.783099, b[2]: 0.196639, c[2]: 0.979739 \n",
            "a[0]: 0.840188, b[0]: 0.118948, c[0]: 0.959136 \n",
            "a[1]: 0.394383, b[1]: 0.235666, c[1]: 0.630049 \n",
            "a[2]: 0.783099, b[2]: 0.196639, c[2]: 0.979739 \n",
            "a[0]: 0.840188, b[0]: 0.118948, c[0]: 0.959136 \n",
            "a[1]: 0.394383, b[1]: 0.235666, c[1]: 0.630049 \n",
            "a[2]: 0.783099, b[2]: 0.196639, c[2]: 0.979739 \n",
            "a[0]: 0.840188, b[0]: 0.118948, c[0]: 0.959136 \n",
            "a[1]: 0.394383, b[1]: 0.235666, c[1]: 0.630049 \n",
            "a[2]: 0.783099, b[2]: 0.196639, c[2]: 0.979739 \n",
            "a[0]: 0.840188, b[0]: 0.118948, c[0]: 0.959136 \n",
            "a[1]: 0.394383, b[1]: 0.235666, c[1]: 0.630049 \n",
            "a[2]: 0.783099, b[2]: 0.196639, c[2]: 0.979739 \n",
            "a[0]: 0.840188, b[0]: 0.118948, c[0]: 0.959136 \n",
            "a[1]: 0.394383, b[1]: 0.235666, c[1]: 0.630049 \n",
            "a[2]: 0.783099, b[2]: 0.196639, c[2]: 0.979739 \n",
            "a[0]: 0.840188, b[0]: 0.118948, c[0]: 0.959136 \n",
            "a[1]: 0.394383, b[1]: 0.235666, c[1]: 0.630049 \n",
            "a[2]: 0.783099, b[2]: 0.196639, c[2]: 0.979739 \n",
            "a[0]: 0.840188, b[0]: 0.118948, c[0]: 0.959136 \n",
            "a[1]: 0.394383, b[1]: 0.235666, c[1]: 0.630049 \n",
            "a[2]: 0.783099, b[2]: 0.196639, c[2]: 0.979739 \n",
            "a[0]: 0.840188, b[0]: 0.118948, c[0]: 0.959136 \n",
            "a[1]: 0.394383, b[1]: 0.235666, c[1]: 0.630049 \n",
            "a[2]: 0.783099, b[2]: 0.196639, c[2]: 0.979739 \n",
            "a[0]: 0.840188, b[0]: 0.118948, c[0]: 0.959136 \n",
            "a[1]: 0.394383, b[1]: 0.235666, c[1]: 0.630049 \n",
            "a[2]: 0.783099, b[2]: 0.196639, c[2]: 0.979739 \n",
            "a[0]: 0.840188, b[0]: 0.118948, c[0]: 0.959136 \n",
            "a[1]: 0.394383, b[1]: 0.235666, c[1]: 0.630049 \n",
            "a[2]: 0.783099, b[2]: 0.196639, c[2]: 0.979739 \n",
            "a[0]: 0.840188, b[0]: 0.118948, c[0]: 0.959136 \n",
            "a[1]: 0.394383, b[1]: 0.235666, c[1]: 0.630049 \n",
            "a[2]: 0.783099, b[2]: 0.196639, c[2]: 0.979739 \n",
            "a[0]: 0.840188, b[0]: 0.118948, c[0]: 0.959136 \n",
            "a[1]: 0.394383, b[1]: 0.235666, c[1]: 0.630049 \n",
            "a[2]: 0.783099, b[2]: 0.196639, c[2]: 0.979739 \n",
            "a[0]: 0.840188, b[0]: 0.118948, c[0]: 0.959136 \n",
            "a[1]: 0.394383, b[1]: 0.235666, c[1]: 0.630049 \n",
            "a[2]: 0.783099, b[2]: 0.196639, c[2]: 0.979739 \n",
            "a[0]: 0.840188, b[0]: 0.118948, c[0]: 0.959136 \n",
            "a[1]: 0.394383, b[1]: 0.235666, c[1]: 0.630049 \n",
            "a[2]: 0.783099, b[2]: 0.196639, c[2]: 0.979739 \n",
            "a[0]: 0.840188, b[0]: 0.118948, c[0]: 0.959136 \n",
            "a[1]: 0.394383, b[1]: 0.235666, c[1]: 0.630049 \n",
            "a[2]: 0.783099, b[2]: 0.196639, c[2]: 0.979739 \n",
            "a[0]: 0.840188, b[0]: 0.118948, c[0]: 0.959136 \n",
            "a[1]: 0.394383, b[1]: 0.235666, c[1]: 0.630049 \n",
            "a[2]: 0.783099, b[2]: 0.196639, c[2]: 0.979739 \n",
            "a[0]: 0.840188, b[0]: 0.118948, c[0]: 0.959136 \n",
            "a[1]: 0.394383, b[1]: 0.235666, c[1]: 0.630049 \n",
            "a[2]: 0.783099, b[2]: 0.196639, c[2]: 0.979739 \n",
            "a[0]: 0.840188, b[0]: 0.118948, c[0]: 0.959136 \n",
            "a[1]: 0.394383, b[1]: 0.235666, c[1]: 0.630049 \n",
            "a[2]: 0.783099, b[2]: 0.196639, c[2]: 0.979739 \n",
            "a[0]: 0.840188, b[0]: 0.118948, c[0]: 0.959136 \n",
            "a[1]: 0.394383, b[1]: 0.235666, c[1]: 0.630049 \n",
            "a[2]: 0.783099, b[2]: 0.196639, c[2]: 0.979739 \n",
            "a[0]: 0.840188, b[0]: 0.118948, c[0]: 0.959136 \n",
            "a[1]: 0.394383, b[1]: 0.235666, c[1]: 0.630049 \n",
            "a[2]: 0.783099, b[2]: 0.196639, c[2]: 0.979739 \n",
            "a[0]: 0.840188, b[0]: 0.118948, c[0]: 0.959136 \n",
            "a[1]: 0.394383, b[1]: 0.235666, c[1]: 0.630049 \n",
            "a[2]: 0.783099, b[2]: 0.196639, c[2]: 0.979739 \n",
            "a[0]: 0.840188, b[0]: 0.118948, c[0]: 0.959136 \n",
            "a[1]: 0.394383, b[1]: 0.235666, c[1]: 0.630049 \n",
            "a[2]: 0.783099, b[2]: 0.196639, c[2]: 0.979739 \n",
            "a[0]: 0.840188, b[0]: 0.118948, c[0]: 0.959136 \n",
            "a[1]: 0.394383, b[1]: 0.235666, c[1]: 0.630049 \n",
            "a[2]: 0.783099, b[2]: 0.196639, c[2]: 0.979739 \n",
            "a[0]: 0.840188, b[0]: 0.118948, c[0]: 0.959136 \n",
            "a[1]: 0.394383, b[1]: 0.235666, c[1]: 0.630049 \n",
            "a[2]: 0.783099, b[2]: 0.196639, c[2]: 0.979739 \n",
            "a[0]: 0.840188, b[0]: 0.118948, c[0]: 0.959136 \n",
            "a[1]: 0.394383, b[1]: 0.235666, c[1]: 0.630049 \n",
            "a[2]: 0.783099, b[2]: 0.196639, c[2]: 0.979739 \n",
            "a[0]: 0.840188, b[0]: 0.118948, c[0]: 0.959136 \n",
            "a[1]: 0.394383, b[1]: 0.235666, c[1]: 0.630049 \n",
            "a[2]: 0.783099, b[2]: 0.196639, c[2]: 0.979739 \n",
            "a[0]: 0.840188, b[0]: 0.118948, c[0]: 0.959136 \n",
            "a[1]: 0.394383, b[1]: 0.235666, c[1]: 0.630049 \n",
            "a[2]: 0.783099, b[2]: 0.196639, c[2]: 0.979739 \n",
            "a[0]: 0.840188, b[0]: 0.118948, c[0]: 0.959136 \n",
            "a[1]: 0.394383, b[1]: 0.235666, c[1]: 0.630049 \n",
            "a[2]: 0.783099, b[2]: 0.196639, c[2]: 0.979739 \n",
            "a[0]: 0.840188, b[0]: 0.118948, c[0]: 0.959136 \n",
            "a[1]: 0.394383, b[1]: 0.235666, c[1]: 0.630049 \n",
            "a[2]: 0.783099, b[2]: 0.196639, c[2]: 0.979739 \n",
            "a[0]: 0.840188, b[0]: 0.118948, c[0]: 0.959136 \n",
            "a[1]: 0.394383, b[1]: 0.235666, c[1]: 0.630049 \n",
            "a[2]: 0.783099, b[2]: 0.196639, c[2]: 0.979739 \n",
            "a[0]: 0.840188, b[0]: 0.118948, c[0]: 0.959136 \n",
            "a[1]: 0.394383, b[1]: 0.235666, c[1]: 0.630049 \n",
            "a[2]: 0.783099, b[2]: 0.196639, c[2]: 0.979739 \n",
            "a[0]: 0.840188, b[0]: 0.118948, c[0]: 0.959136 \n",
            "a[1]: 0.394383, b[1]: 0.235666, c[1]: 0.630049 \n",
            "a[2]: 0.783099, b[2]: 0.196639, c[2]: 0.979739 \n",
            "a[0]: 0.840188, b[0]: 0.118948, c[0]: 0.959136 \n",
            "a[1]: 0.394383, b[1]: 0.235666, c[1]: 0.630049 \n",
            "a[2]: 0.783099, b[2]: 0.196639, c[2]: 0.979739 \n",
            "105 ms ± 140 µs per loop (mean ± std. dev. of 7 runs, 10 loops each)\n"
          ]
        }
      ]
    },
    {
      "cell_type": "code",
      "source": [
        "# CUDA malloc is likely taking up the runtime https://stackoverflow.com/questions/10378124/cuda-gpu-slower-than-cpu\n",
        "# Though for most cases we would be more concerned if CUDA memcpy is the bottleneck."
      ],
      "metadata": {
        "id": "FP4Q4TBxt1fb"
      },
      "execution_count": 82,
      "outputs": []
    },
    {
      "cell_type": "code",
      "source": [
        "%%writefile matrix_multiply.cu\n",
        "\n",
        "#include <stdio.h>\n",
        "\n",
        "// these are just for timing measurments\n",
        "#include <time.h>\n",
        "\n",
        "// error checking macro\n",
        "#define cudaCheckErrors(msg) \\\n",
        "    do { \\\n",
        "        cudaError_t __err = cudaGetLastError(); \\\n",
        "        if (__err != cudaSuccess) { \\\n",
        "            fprintf(stderr, \"Fatal error: %s (%s at %s:%d)\\n\", \\\n",
        "                msg, cudaGetErrorString(__err), \\\n",
        "                __FILE__, __LINE__); \\\n",
        "            fprintf(stderr, \"*** FAILED - ABORTING\\n\"); \\\n",
        "            exit(1); \\\n",
        "        } \\\n",
        "    } while (0)\n",
        "\n",
        "\n",
        "const int DSIZE = 4096;\n",
        "const int block_size = 16;  // CUDA maximum is 1024 *total* threads in block\n",
        "const float A_val = 1.0f;\n",
        "const float B_val = 2.0f;\n",
        "\n",
        "// square matrix multiply (naive) kernel: C = A * B\n",
        "__global__ void mmul(const float *A, const float *B, float *C, int ds) {\n",
        "\n",
        "  int idx = blockIdx.x * blockDim.x + threadIdx.x;\n",
        "  int idy = blockIdx.y * blockDim.y + threadIdx.y;\n",
        "  if (idx < ds && idy < ds) {\n",
        "    float tmp = 0;\n",
        "    for (int i = 0; i < ds; i++) {\n",
        "      tmp += A[idy*ds + i] * B[i*ds + idx];\n",
        "    }\n",
        "    C[idy * ds + idx] = tmp;\n",
        "  }\n",
        "}\n",
        "\n",
        "int main(){\n",
        "\n",
        "  float *h_A, *h_B, *h_C, *d_A, *d_B, *d_C;\n",
        "\n",
        "  // these are just for timing\n",
        "  clock_t t0, t1, t2;\n",
        "  double t1sum=0.0;\n",
        "  double t2sum=0.0;\n",
        "\n",
        "  // start timing\n",
        "  t0 = clock();\n",
        "\n",
        "  h_A = new float[DSIZE*DSIZE];\n",
        "  h_B = new float[DSIZE*DSIZE];\n",
        "  h_C = new float[DSIZE*DSIZE];\n",
        "  for (int i = 0; i < DSIZE*DSIZE; i++){\n",
        "    h_A[i] = A_val;\n",
        "    h_B[i] = B_val;\n",
        "    h_C[i] = 0;}\n",
        "\n",
        "  // Initialization timing\n",
        "  t1 = clock();\n",
        "  t1sum = ((double)(t1-t0))/CLOCKS_PER_SEC;\n",
        "  printf(\"Init took %f seconds.  Begin compute\\n\", t1sum);\n",
        "\n",
        "  // Allocate device memory and copy input data over to GPU\n",
        "  cudaMalloc(&d_A, DSIZE*DSIZE*sizeof(float));\n",
        "  cudaMalloc(&d_B, DSIZE*DSIZE*sizeof(float));\n",
        "  cudaMalloc(&d_C, DSIZE*DSIZE*sizeof(float));\n",
        "  cudaCheckErrors(\"cudaMalloc failure\");\n",
        "  cudaMemcpy(d_A, h_A, DSIZE*DSIZE*sizeof(float), cudaMemcpyHostToDevice);\n",
        "  cudaMemcpy(d_B, h_B, DSIZE*DSIZE*sizeof(float), cudaMemcpyHostToDevice);\n",
        "  cudaCheckErrors(\"cudaMemcpy H2D failure\");\n",
        "\n",
        "  // Cuda processing sequence step 1 is complete\n",
        "\n",
        "  // Launch kernel\n",
        "  dim3 block(block_size, block_size);  // dim3 variable holds 3 dimensions\n",
        "  dim3 grid((DSIZE+block.x-1)/block.x, (DSIZE+block.y-1)/block.y);\n",
        "  mmul<<<grid, block>>>(d_A, d_B, d_C, DSIZE);\n",
        "  cudaCheckErrors(\"kernel launch failure\");\n",
        "\n",
        "  // Cuda processing sequence step 2 is complete\n",
        "\n",
        "  // Copy results back to host\n",
        "  cudaMemcpy(h_C, d_C, DSIZE*DSIZE*sizeof(float), cudaMemcpyDeviceToHost);\n",
        "\n",
        "  // GPU timing\n",
        "  t2 = clock();\n",
        "  t2sum = ((double)(t2-t1))/CLOCKS_PER_SEC;\n",
        "  printf (\"Done. Compute took %f seconds\\n\", t2sum);\n",
        "\n",
        "  // Cuda processing sequence step 3 is complete\n",
        "\n",
        "  // Verify results\n",
        "  cudaCheckErrors(\"kernel execution failure or cudaMemcpy H2D failure\");\n",
        "  for (int i = 0; i < DSIZE*DSIZE; i++) if (h_C[i] != A_val*B_val*DSIZE) {printf(\"mismatch at index %d, was: %f, should be: %f\\n\", i, h_C[i], A_val*B_val*DSIZE); return -1;}\n",
        "  printf(\"Success!\\n\");\n",
        "\n",
        "  return 0;\n",
        "}\n",
        ""
      ],
      "metadata": {
        "colab": {
          "base_uri": "https://localhost:8080/"
        },
        "id": "dW3wNyxPvA_d",
        "outputId": "bab62ede-12f4-41f3-d978-f2266739e7b5"
      },
      "execution_count": 119,
      "outputs": [
        {
          "output_type": "stream",
          "name": "stdout",
          "text": [
            "Overwriting matrix_multiply.cu\n"
          ]
        }
      ]
    },
    {
      "cell_type": "code",
      "source": [
        "!nvcc -o mmul matrix_multiply.cu"
      ],
      "metadata": {
        "id": "K8NZH06A2cQV"
      },
      "execution_count": 120,
      "outputs": []
    },
    {
      "cell_type": "code",
      "source": [
        "!./mmul"
      ],
      "metadata": {
        "colab": {
          "base_uri": "https://localhost:8080/"
        },
        "id": "Jz7M-DD02epD",
        "outputId": "47bbbd76-57dc-43ce-82b9-0bdbc3dbbf26"
      },
      "execution_count": 121,
      "outputs": [
        {
          "output_type": "stream",
          "name": "stdout",
          "text": [
            "Init took 0.132243 seconds.  Begin compute\n",
            "Done. Compute took 0.562176 seconds\n",
            "Success!\n"
          ]
        }
      ]
    },
    {
      "cell_type": "code",
      "source": [
        "!nvidia-smi"
      ],
      "metadata": {
        "colab": {
          "base_uri": "https://localhost:8080/"
        },
        "id": "A5o9wbnj2fs8",
        "outputId": "f76916f8-19eb-45dd-c491-2cf4eedc784b"
      },
      "execution_count": 122,
      "outputs": [
        {
          "output_type": "stream",
          "name": "stdout",
          "text": [
            "Sat Oct 21 20:20:33 2023       \n",
            "+-----------------------------------------------------------------------------+\n",
            "| NVIDIA-SMI 525.105.17   Driver Version: 525.105.17   CUDA Version: 12.0     |\n",
            "|-------------------------------+----------------------+----------------------+\n",
            "| GPU  Name        Persistence-M| Bus-Id        Disp.A | Volatile Uncorr. ECC |\n",
            "| Fan  Temp  Perf  Pwr:Usage/Cap|         Memory-Usage | GPU-Util  Compute M. |\n",
            "|                               |                      |               MIG M. |\n",
            "|===============================+======================+======================|\n",
            "|   0  Tesla T4            Off  | 00000000:00:04.0 Off |                    0 |\n",
            "| N/A   39C    P0    26W /  70W |      0MiB / 15360MiB |      0%      Default |\n",
            "|                               |                      |                  N/A |\n",
            "+-------------------------------+----------------------+----------------------+\n",
            "                                                                               \n",
            "+-----------------------------------------------------------------------------+\n",
            "| Processes:                                                                  |\n",
            "|  GPU   GI   CI        PID   Type   Process name                  GPU Memory |\n",
            "|        ID   ID                                                   Usage      |\n",
            "|=============================================================================|\n",
            "|  No running processes found                                                 |\n",
            "+-----------------------------------------------------------------------------+\n"
          ]
        }
      ]
    },
    {
      "cell_type": "code",
      "source": [],
      "metadata": {
        "id": "vRm0IZV85YcZ"
      },
      "execution_count": null,
      "outputs": []
    }
  ]
}